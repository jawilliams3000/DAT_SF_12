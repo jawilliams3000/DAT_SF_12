{
 "metadata": {
  "name": "",
  "signature": "sha256:29828e24cef77691a9775bf74a9a441661e2d70ac5241a31ce8615e011f355cd"
 },
 "nbformat": 3,
 "nbformat_minor": 0,
 "worksheets": [
  {
   "cells": [
    {
     "cell_type": "markdown",
     "metadata": {},
     "source": [
      "Lab\n",
      "==========================================\n",
      "Clustering\n",
      "------------------------------------------\n",
      "Alessandro D. Gagliardi"
     ]
    },
    {
     "cell_type": "code",
     "collapsed": false,
     "input": [
      "%matplotlib inline\n",
      "\n",
      "import numpy as np\n",
      "import pandas as pd\n",
      "import sklearn.datasets as datasets\n",
      "\n",
      "from seaborn import plt, color_palette\n",
      "from sklearn.preprocessing import scale"
     ],
     "language": "python",
     "metadata": {},
     "outputs": [],
     "prompt_number": 1
    },
    {
     "cell_type": "markdown",
     "metadata": {},
     "source": [
      "For our first example, let's create some synthetic easy-to-cluster data:"
     ]
    },
    {
     "cell_type": "code",
     "collapsed": false,
     "input": [
      "X, Y = datasets.make_blobs(centers=4, cluster_std=0.5, random_state=1)"
     ],
     "language": "python",
     "metadata": {},
     "outputs": [],
     "prompt_number": 2
    },
    {
     "cell_type": "code",
     "collapsed": false,
     "input": [
      "X"
     ],
     "language": "python",
     "metadata": {},
     "outputs": [
      {
       "metadata": {},
       "output_type": "pyout",
       "prompt_number": 6,
       "text": [
        "array([[ -7.99387312,  -7.53514609],\n",
        "       [-10.10887657,  -4.05372758],\n",
        "       [ -6.63043911,  -7.77802228],\n",
        "       [ -9.43189781,  -3.19344014],\n",
        "       [ -0.78715402,   4.02588642],\n",
        "       [ -1.20876455,   4.65773704],\n",
        "       [ -5.69462649,  -2.9040391 ],\n",
        "       [ -5.60906722,  -3.23243939],\n",
        "       [ -6.34301814,  -3.14831255],\n",
        "       [ -6.66395167,  -8.12994446],\n",
        "       [ -5.78162818,  -2.98201851],\n",
        "       [ -6.59825412,  -2.63804201],\n",
        "       [ -9.39825356,  -3.86077034],\n",
        "       [ -6.26609107,  -3.64979482],\n",
        "       [ -6.42800422,  -7.16967723],\n",
        "       [ -6.13446323,  -3.12534181],\n",
        "       [ -6.02320337,  -2.44217252],\n",
        "       [ -7.02597162,  -7.84403797],\n",
        "       [ -1.99518297,   4.40015757],\n",
        "       [ -1.63415603,   4.08799205],\n",
        "       [ -6.64180186,  -8.58298608],\n",
        "       [ -7.75144084,  -7.99564841],\n",
        "       [ -7.08422994,  -8.96111428],\n",
        "       [ -9.91769397,  -3.51526409],\n",
        "       [ -0.92850594,   3.37641951],\n",
        "       [ -5.99341522,  -2.96841691],\n",
        "       [ -5.01063292,  -3.21310285],\n",
        "       [ -6.54546988,  -7.05973828],\n",
        "       [-10.30771293,  -3.60433253],\n",
        "       [ -2.230819  ,   4.23181851],\n",
        "       [ -1.82076851,   4.21446269],\n",
        "       [ -7.15816707,  -8.20410104],\n",
        "       [ -2.00539028,   4.20811311],\n",
        "       [-10.10215962,  -3.66003695],\n",
        "       [ -6.9486349 ,  -7.8119524 ],\n",
        "       [ -2.03313905,   5.25271717],\n",
        "       [ -6.66847875,  -8.46499347],\n",
        "       [ -6.02719011,  -3.17613704],\n",
        "       [-10.18535498,  -4.27271375],\n",
        "       [ -6.50417333,  -7.94877784],\n",
        "       [ -7.67991125,  -7.87795936],\n",
        "       [ -5.86931994,  -2.56656441],\n",
        "       [ -5.32246642,  -2.53325711],\n",
        "       [ -9.78596533,  -3.91467851],\n",
        "       [ -6.69460396,  -8.63007841],\n",
        "       [ -1.09267518,   3.85654424],\n",
        "       [ -6.80459402,  -8.7253988 ],\n",
        "       [-10.33304365,  -3.76456665],\n",
        "       [ -6.88960919,  -8.80936981],\n",
        "       [ -1.20913193,   4.06462594],\n",
        "       [-10.71976941,  -4.20558148],\n",
        "       [ -0.82965882,   4.77751195],\n",
        "       [ -1.79350395,   4.6716676 ],\n",
        "       [ -9.90443181,  -3.74832272],\n",
        "       [ -6.15039619,  -3.23710604],\n",
        "       [ -7.21994057,  -9.37064699],\n",
        "       [ -1.50004036,   4.28180468],\n",
        "       [ -1.50947475,   4.23036495],\n",
        "       [ -7.6645162 ,  -7.72155545],\n",
        "       [-10.22127679,  -3.34109469],\n",
        "       [ -5.17944591,  -4.03696592],\n",
        "       [ -2.20986949,   4.97885172],\n",
        "       [ -9.75345343,  -3.9911344 ],\n",
        "       [ -9.89856264,  -3.89384422],\n",
        "       [ -6.25296128,  -3.20194258],\n",
        "       [ -6.25105681,  -7.98422226],\n",
        "       [ -6.91107515,  -2.9320116 ],\n",
        "       [ -9.74124759,  -4.10239496],\n",
        "       [ -6.33001929,  -3.39746649],\n",
        "       [ -1.63845303,   4.69789748],\n",
        "       [-10.16963934,  -3.93155012],\n",
        "       [ -7.61233811,  -8.06853689],\n",
        "       [ -7.19799144,  -8.13692083],\n",
        "       [ -6.55594849,  -2.11134642],\n",
        "       [ -9.85491884,  -3.51077797],\n",
        "       [ -1.75547768,   3.96267539],\n",
        "       [-10.15081451,  -3.53936123],\n",
        "       [ -6.80014952,  -8.0843775 ],\n",
        "       [ -5.93476085,  -3.24868626],\n",
        "       [ -1.22685609,   3.25572052],\n",
        "       [ -9.79596668,  -3.65655929],\n",
        "       [ -8.9049248 ,  -4.65159672],\n",
        "       [ -7.15534233,  -8.45518842],\n",
        "       [ -9.83989503,  -4.96444916],\n",
        "       [ -5.97363613,  -2.87864436],\n",
        "       [ -2.00314626,   3.98388705],\n",
        "       [ -1.74577401,   3.96756066],\n",
        "       [ -1.59948043,   4.71509142],\n",
        "       [ -1.72100502,   3.93860515],\n",
        "       [ -9.88266514,  -3.57234296],\n",
        "       [ -2.21821508,   4.52369772],\n",
        "       [ -5.94527087,  -3.90250463],\n",
        "       [ -1.56410216,   5.45661744],\n",
        "       [ -9.5782208 ,  -3.48779751],\n",
        "       [ -9.93680187,  -3.38860659],\n",
        "       [ -7.07719066,  -8.54080891],\n",
        "       [ -6.05411355,  -3.13886308],\n",
        "       [ -6.533343  ,  -3.58729887],\n",
        "       [-10.37491147,  -3.32691447],\n",
        "       [ -6.47523487,  -2.67678265]])"
       ]
      }
     ],
     "prompt_number": 6
    },
    {
     "cell_type": "code",
     "collapsed": false,
     "input": [
      "Y"
     ],
     "language": "python",
     "metadata": {},
     "outputs": [
      {
       "metadata": {},
       "output_type": "pyout",
       "prompt_number": 7,
       "text": [
        "array([2, 1, 2, 1, 0, 0, 3, 3, 3, 2, 3, 3, 1, 3, 2, 3, 3, 2, 0, 0, 2, 2, 2,\n",
        "       1, 0, 3, 3, 2, 1, 0, 0, 2, 0, 1, 2, 0, 2, 3, 1, 2, 2, 3, 3, 1, 2, 0,\n",
        "       2, 1, 2, 0, 1, 0, 0, 1, 3, 2, 0, 0, 2, 1, 3, 0, 1, 1, 3, 2, 3, 1, 3,\n",
        "       0, 1, 2, 2, 3, 1, 0, 1, 2, 3, 0, 1, 1, 2, 1, 3, 0, 0, 0, 0, 1, 0, 3,\n",
        "       0, 1, 1, 2, 3, 3, 1, 3])"
       ]
      }
     ],
     "prompt_number": 7
    },
    {
     "cell_type": "markdown",
     "metadata": {},
     "source": [
      "As always, we first *plot* the data to get a feeling of what we're dealing with:"
     ]
    },
    {
     "cell_type": "code",
     "collapsed": false,
     "input": [
      "plt.scatter(X[:,0], X[:,1]);"
     ],
     "language": "python",
     "metadata": {},
     "outputs": [
      {
       "metadata": {},
       "output_type": "display_data",
       "png": "[encoded data removed]",
       "text": [
        "<matplotlib.figure.Figure at 0x17ce2748>"
       ]
      }
     ],
     "prompt_number": 3
    },
    {
     "cell_type": "markdown",
     "metadata": {},
     "source": [
      "The data looks like it may contain four different \"types\" of data point. \n",
      "\n",
      "In fact, this is how it was created above.\n",
      "\n",
      "We can plot this information as well, using color:"
     ]
    },
    {
     "cell_type": "code",
     "collapsed": false,
     "input": [
      "c = [color_palette()[i] for i in Y]\n",
      "\n",
      "plt.scatter(X[:,0], X[:,1], c=c)"
     ],
     "language": "python",
     "metadata": {},
     "outputs": [
      {
       "metadata": {},
       "output_type": "pyout",
       "prompt_number": 4,
       "text": [
        "<matplotlib.collections.PathCollection at 0x18129518>"
       ]
      },
      {
       "metadata": {},
       "output_type": "display_data",
       "png": "[encoded data removed]",
       "text": [
        "<matplotlib.figure.Figure at 0x17deb198>"
       ]
      }
     ],
     "prompt_number": 4
    },
    {
     "cell_type": "markdown",
     "metadata": {},
     "source": [
      "However, if you do not know the information in `Y`, you could try to recover it from the data alone.\n",
      "\n",
      "Using hierarchical clustering, we start with a distance matrix:"
     ]
    },
    {
     "cell_type": "code",
     "collapsed": false,
     "input": [
      "# compute distance matrix\n",
      "from scipy.spatial.distance import pdist, squareform\n",
      "\n",
      "# not printed as pretty, but the values are correct\n",
      "distx = squareform(pdist(X, metric='euclidean'))\n",
      "distx"
     ],
     "language": "python",
     "metadata": {},
     "outputs": [
      {
       "metadata": {},
       "output_type": "pyout",
       "prompt_number": 5,
       "text": [
        "array([[ 0.        ,  4.07351377,  1.38489752, ...,  4.20935219,\n",
        "         4.83513775,  5.09018246],\n",
        "       [ 4.07351377,  0.        ,  5.09606694, ...,  3.60582807,\n",
        "         0.77397149,  3.88578556],\n",
        "       [ 1.38489752,  5.09606694,  0.        , ...,  4.19184808,\n",
        "         5.81665145,  5.10360012],\n",
        "       ..., \n",
        "       [ 4.20935219,  3.60582807,  4.19184808, ...,  0.        ,\n",
        "         3.85038289,  0.91236854],\n",
        "       [ 4.83513775,  0.77397149,  5.81665145, ...,  3.85038289,\n",
        "         0.        ,  3.95349833],\n",
        "       [ 5.09018246,  3.88578556,  5.10360012, ...,  0.91236854,\n",
        "         3.95349833,  0.        ]])"
       ]
      }
     ],
     "prompt_number": 5
    },
    {
     "cell_type": "markdown",
     "metadata": {},
     "source": [
      "We then use `scipy.cluster.hierarchy.linkage` to create the hierarchy, and `...dendrogram` to plot it."
     ]
    },
    {
     "cell_type": "code",
     "collapsed": false,
     "input": [
      "# perform clustering and plot the dendrogram\n",
      "from scipy.cluster.hierarchy import linkage, dendrogram\n",
      "\n",
      "R = dendrogram(linkage(distx, method='single'), color_threshold=10)\n",
      "\n",
      "plt.xlabel('points')\n",
      "plt.ylabel('Height')\n",
      "plt.suptitle('Cluster Dendrogram', fontweight='bold', fontsize=14);"
     ],
     "language": "python",
     "metadata": {},
     "outputs": [
      {
       "metadata": {},
       "output_type": "display_data",
       "png": "[encoded data removed]",
       "text": [
        "<matplotlib.figure.Figure at 0x17e06cc0>"
       ]
      }
     ],
     "prompt_number": 8
    },
    {
     "cell_type": "markdown",
     "metadata": {},
     "source": [
      "`linkage` supports other methods such as [Ward's](http://en.wikipedia.org/wiki/Ward%27s_method):\n",
      "\n",
      "$$ d(u,v) = \\sqrt{\\frac{|v|+|s|}\n",
      "                       {T}d(v,s)^2\n",
      "                + \\frac{|v|+|t|}\n",
      "                       {T}d(v,t)^2\n",
      "                + \\frac{|v|}\n",
      "                       {T}d(s,t)^2}$$"
     ]
    },
    {
     "cell_type": "code",
     "collapsed": false,
     "input": [
      "R = dendrogram(linkage(distx, method='ward'), color_threshold=100)\n",
      "\n",
      "plt.xlabel('points')\n",
      "plt.ylabel('Height')\n",
      "plt.suptitle('Cluster Dendrogram', fontweight='bold', fontsize=14);"
     ],
     "language": "python",
     "metadata": {},
     "outputs": []
    },
    {
     "cell_type": "markdown",
     "metadata": {},
     "source": [
      "scikit-learn supports [Ward's method](http://en.wikipedia.org/wiki/Ward%27s_method) as an unsupervised learning method. However (as with kMeans), you must specify how many clusters you want to get out:"
     ]
    },
    {
     "cell_type": "code",
     "collapsed": false,
     "input": [
      "from sklearn.cluster import AgglomerativeClustering"
     ],
     "language": "python",
     "metadata": {},
     "outputs": []
    },
    {
     "cell_type": "code",
     "collapsed": false,
     "input": [
      "hierarch = AgglomerativeClustering(n_clusters=4, linkage='ward')"
     ],
     "language": "python",
     "metadata": {},
     "outputs": []
    },
    {
     "cell_type": "markdown",
     "metadata": {},
     "source": [
      "Now the label assignments should be quite similar to `Y`, up to a different ordering of the colors:"
     ]
    },
    {
     "cell_type": "code",
     "collapsed": false,
     "input": [
      "Y_hat_hier = hierarch.fit(X).labels_"
     ],
     "language": "python",
     "metadata": {},
     "outputs": []
    },
    {
     "cell_type": "code",
     "collapsed": false,
     "input": [
      "c_hat = [color_palette()[i] for i in Y_hat_hier]\n",
      "plt.scatter(X[:,0], X[:,1], c=c_hat);"
     ],
     "language": "python",
     "metadata": {},
     "outputs": []
    },
    {
     "cell_type": "markdown",
     "metadata": {},
     "source": [
      "We can do the same using `KMeans`.\n",
      "\n",
      "Note that `KMeans` takes an optional `random_state` argument but `Ward` does not. This is because hierarchical clustering is deterministic while k-Means involves a random element (for picking initial centroids)."
     ]
    },
    {
     "cell_type": "code",
     "collapsed": false,
     "input": [
      "from sklearn.cluster import KMeans\n",
      "\n",
      "kmeans = KMeans(4, random_state=1)\n",
      "Y_hat_kmeans = kmeans.fit(X).labels_\n",
      "\n",
      "c_hat = [color_palette()[i] for i in Y_hat_kmeans]\n",
      "\n",
      "plt.scatter(X[:,0], X[:,1], c=c_hat);"
     ],
     "language": "python",
     "metadata": {},
     "outputs": []
    },
    {
     "cell_type": "markdown",
     "metadata": {},
     "source": [
      "Often, you're not so much interested in the assignments to the means. \n",
      "\n",
      "You'll want to have a closer look at the means $\\mu$.\n",
      "\n",
      "The means in $\\mu$ can be seen as *representatives* of their respective cluster."
     ]
    },
    {
     "cell_type": "code",
     "collapsed": false,
     "input": [
      "plt.scatter(X[:,0], X[:,1], c=c_hat, alpha=0.4)\n",
      "mu = kmeans.cluster_centers_\n",
      "plt.scatter(mu[:,0], mu[:,1], s=100, c=[color_palette()[i] for i in np.unique(Y_hat_kmeans)])\n",
      "print mu"
     ],
     "language": "python",
     "metadata": {},
     "outputs": []
    },
    {
     "cell_type": "markdown",
     "metadata": {},
     "source": [
      "1-2 Pairs\n",
      "=========\n",
      "\n",
      "1. Follow the steps below to:\n",
      "    - Read `samsungData.csv` and drop `Unnamed: 0` from the data set.\n",
      "    - Load data for `subject 1` \n",
      "    - Plot the first two variables to see how they relate to the six activities provided.\n",
      "2. Try hierarchical clustering on the first three variables and compare that to the activities.\n",
      "    - Try both single linkage and Ward's method.\n",
      "3. Try hierarchical clustering on variables 9 and 10 and do the same.\n",
      "    - Try Ward's, single, and complete linkage methods.\n",
      "4. Try using all columns (except `subject` and `activity`). This time scale your values first.\n",
      "5. Try `KMeans` where `n_clusters = 6` and compare the clusters to the `activity` column."
     ]
    },
    {
     "cell_type": "code",
     "collapsed": false,
     "input": [
      "samsungData = pd.read_csv('data/samsungData.csv')\n",
      "samsungData = samsungData.drop(['Unnamed: 0'], axis=1)"
     ],
     "language": "python",
     "metadata": {},
     "outputs": []
    },
    {
     "cell_type": "markdown",
     "metadata": {},
     "source": [
      "A quick look on the column names and the type of activities in the data:"
     ]
    },
    {
     "cell_type": "code",
     "collapsed": false,
     "input": [
      "samsungData.columns[:12]"
     ],
     "language": "python",
     "metadata": {},
     "outputs": []
    },
    {
     "cell_type": "code",
     "collapsed": false,
     "input": [
      "samsungData['activity'].value_counts()"
     ],
     "language": "python",
     "metadata": {},
     "outputs": []
    },
    {
     "cell_type": "markdown",
     "metadata": {},
     "source": [
      "The scatter plots below show the first and second variable/feature vectors for subject number 1, colour coded by activity. We see that almost all activities have the first and second variable values around zero, except for LAYING, which is spread throughout the y-axis.\n",
      "\n",
      "The conclusion from these plots is that we can't really classify the activities based on the two variables, since their values are very close to each other."
     ]
    },
    {
     "cell_type": "code",
     "collapsed": false,
     "input": [
      "subj1 = samsungData[samsungData['subject'] == 1]\n",
      "\n",
      "numericActivity = subj1.groupby('activity')\n",
      "\n",
      "cols = {'laying' : 'b',\n",
      "        'sitting' : 'g',\n",
      "        'standing' : 'r',\n",
      "        'walk' : 'c',\n",
      "        'walkdown' : 'm',\n",
      "        'walkup' : 'y'}\n",
      "\n",
      "f, (ax1, ax2) = plt.subplots(ncols=2)\n",
      "f.set_size_inches(10, 5)\n",
      "\n",
      "for act, df in numericActivity:\n",
      "    ax1.scatter(df.index, df.ix[:,0], c=cols[act], label=act)\n",
      "    ax2.scatter(df.index, df.ix[:,1], c=cols[act], label=act)\n",
      "\n",
      "ax1.set_ylabel(samsungData.columns[0])\n",
      "ax2.set_ylabel(samsungData.columns[1])\n",
      "ax2.legend(loc='lower right')\n",
      "\n",
      "f.tight_layout();"
     ],
     "language": "python",
     "metadata": {},
     "outputs": []
    },
    {
     "cell_type": "code",
     "collapsed": false,
     "input": [],
     "language": "python",
     "metadata": {},
     "outputs": []
    },
    {
     "cell_type": "markdown",
     "metadata": {},
     "source": [
      "On your own\n",
      "===========\n",
      "Try hierarchical and k-Means clustering using the iris data set."
     ]
    },
    {
     "cell_type": "code",
     "collapsed": false,
     "input": [
      "from sklearn.datasets import load_iris"
     ],
     "language": "python",
     "metadata": {},
     "outputs": []
    },
    {
     "cell_type": "code",
     "collapsed": false,
     "input": [],
     "language": "python",
     "metadata": {},
     "outputs": []
    }
   ],
   "metadata": {}
  }
 ]
}